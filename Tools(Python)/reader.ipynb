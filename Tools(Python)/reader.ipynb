{
 "cells": [
  {
   "cell_type": "code",
   "execution_count": 18,
   "metadata": {},
   "outputs": [],
   "source": [
    "from PythonModules.file_modifying_module import *"
   ]
  },
  {
   "cell_type": "code",
   "execution_count": 41,
   "metadata": {},
   "outputs": [],
   "source": [
    "import tkinter as tk\n",
    "import tkinter.filedialog as fd"
   ]
  },
  {
   "cell_type": "code",
   "execution_count": 144,
   "metadata": {},
   "outputs": [],
   "source": [
    "def SelectFile():\n",
    "    filename:str = fd.askopenfilename()\n",
    "    print(filename)\n",
    "    file_data_raw:bytes = read_bytes_data(filename)\n",
    "    file_data_list:list[str] = [hex(data) for data in file_data_raw]\n",
    "    file_data:str = ''.join(file_data_list)\n",
    "    hexes['state']='normal'\n",
    "    hexes.insert('0.0', file_data)\n",
    "    hexes['state']='disabled'"
   ]
  },
  {
   "cell_type": "code",
   "execution_count": 128,
   "metadata": {},
   "outputs": [],
   "source": [
    "def Kill():\n",
    "    root.destroy()"
   ]
  },
  {
   "cell_type": "code",
   "execution_count": 145,
   "metadata": {},
   "outputs": [],
   "source": [
    "root: tk.Tk = tk.Tk()\n",
    "root.resizable(False,False)\n",
    "root.geometry('1020x610')\n",
    "\n",
    "kill_b: tk.Button = tk.Button(root, text=\"Die\", command=Kill)\n",
    "kill_b.grid(row=0, column=0)\n",
    "file_select: tk.Button = tk.Button(root, text=\"PICK FILE\", command=SelectFile)\n",
    "file_select.grid(row=0, column=1)\n",
    "\n",
    "hexes: tk.Text = tk.Text(root, width=102, height=25, state='disabled')\n",
    "hexes.grid(row=1, column=1)"
   ]
  },
  {
   "cell_type": "code",
   "execution_count": 146,
   "metadata": {},
   "outputs": [
    {
     "name": "stdout",
     "output_type": "stream",
     "text": [
      "C:/Users/Parsa/Desktop/Tor Browser/Browser/firefox.exe\n"
     ]
    },
    {
     "ename": "",
     "evalue": "",
     "output_type": "error",
     "traceback": [
      "\u001b[1;31mThe Kernel crashed while executing code in the the current cell or a previous cell. Please review the code in the cell(s) to identify a possible cause of the failure. Click <a href='https://aka.ms/vscodeJupyterKernelCrash'>here</a> for more info. View Jupyter <a href='command:jupyter.viewOutput'>log</a> for further details."
     ]
    }
   ],
   "source": [
    "root.mainloop()\n"
   ]
  }
 ],
 "metadata": {
  "kernelspec": {
   "display_name": "Python 3",
   "language": "python",
   "name": "python3"
  },
  "language_info": {
   "codemirror_mode": {
    "name": "ipython",
    "version": 3
   },
   "file_extension": ".py",
   "mimetype": "text/x-python",
   "name": "python",
   "nbconvert_exporter": "python",
   "pygments_lexer": "ipython3",
   "version": "3.10.6"
  },
  "orig_nbformat": 4,
  "vscode": {
   "interpreter": {
    "hash": "10ab5d6bdd563ab153d58009a52c91ca42aefbd05ca2b68c6613655b61c2cc0f"
   }
  }
 },
 "nbformat": 4,
 "nbformat_minor": 2
}
